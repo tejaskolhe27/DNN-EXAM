{
  "nbformat": 4,
  "nbformat_minor": 0,
  "metadata": {
    "colab": {
      "provenance": [],
      "gpuType": "T4"
    },
    "kernelspec": {
      "name": "python3",
      "display_name": "Python 3"
    },
    "language_info": {
      "name": "python"
    },
    "accelerator": "GPU"
  },
  "cells": [
    {
      "cell_type": "code",
      "execution_count": 1,
      "metadata": {
        "id": "wFCv9etEKyHl"
      },
      "outputs": [],
      "source": [
        "import pandas as pd\n",
        "import numpy as np\n",
        "import matplotlib.pyplot as plt\n",
        "from tensorflow.keras import layers,Sequential\n",
        "import tensorflow as tf\n",
        "import os"
      ]
    },
    {
      "cell_type": "code",
      "source": [
        "path_to_file =  tf.keras.utils.get_file('shakesphere.txt','https://storage.googleapis.com/download.tensorflow.org/data/shakespeare.txt')"
      ],
      "metadata": {
        "id": "yukf77RXMSRr"
      },
      "execution_count": 2,
      "outputs": []
    },
    {
      "cell_type": "code",
      "source": [
        "#Read, then decode for py2 compact\n",
        "text = open (path_to_file,'rb').read().decode(encoding = 'utf-8')"
      ],
      "metadata": {
        "id": "LZZetyk_Mm1Q"
      },
      "execution_count": 3,
      "outputs": []
    },
    {
      "cell_type": "code",
      "source": [
        "len(text)"
      ],
      "metadata": {
        "colab": {
          "base_uri": "https://localhost:8080/"
        },
        "id": "P_DpbGM7M8wX",
        "outputId": "a055a516-c907-4524-d3b5-b276bea4da41"
      },
      "execution_count": 4,
      "outputs": [
        {
          "output_type": "execute_result",
          "data": {
            "text/plain": [
              "1115394"
            ]
          },
          "metadata": {},
          "execution_count": 4
        }
      ]
    },
    {
      "cell_type": "code",
      "source": [
        "#Take a look at the first 250 words\n",
        "print(text[:250])"
      ],
      "metadata": {
        "colab": {
          "base_uri": "https://localhost:8080/"
        },
        "id": "Gy1QA6VbM_Bj",
        "outputId": "26f3a015-e0fa-408e-fff6-1108c90434f5"
      },
      "execution_count": 5,
      "outputs": [
        {
          "output_type": "stream",
          "name": "stdout",
          "text": [
            "First Citizen:\n",
            "Before we proceed any further, hear me speak.\n",
            "\n",
            "All:\n",
            "Speak, speak.\n",
            "\n",
            "First Citizen:\n",
            "You are all resolved rather to die than to famish?\n",
            "\n",
            "All:\n",
            "Resolved. resolved.\n",
            "\n",
            "First Citizen:\n",
            "First, you know Caius Marcius is chief enemy to the people.\n",
            "\n"
          ]
        }
      ]
    },
    {
      "cell_type": "code",
      "source": [
        "# The unique characters in the file\n",
        "vocab = sorted(set(text))\n",
        "\n",
        "print('{} unique characters'.format(len(vocab)))\n",
        "print('vocab:', vocab)"
      ],
      "metadata": {
        "colab": {
          "base_uri": "https://localhost:8080/"
        },
        "id": "5Yx_ByaqNM-q",
        "outputId": "a05a4503-9c45-4cf4-8501-687ecdfeadd3"
      },
      "execution_count": 6,
      "outputs": [
        {
          "output_type": "stream",
          "name": "stdout",
          "text": [
            "65 unique characters\n",
            "vocab: ['\\n', ' ', '!', '$', '&', \"'\", ',', '-', '.', '3', ':', ';', '?', 'A', 'B', 'C', 'D', 'E', 'F', 'G', 'H', 'I', 'J', 'K', 'L', 'M', 'N', 'O', 'P', 'Q', 'R', 'S', 'T', 'U', 'V', 'W', 'X', 'Y', 'Z', 'a', 'b', 'c', 'd', 'e', 'f', 'g', 'h', 'i', 'j', 'k', 'l', 'm', 'n', 'o', 'p', 'q', 'r', 's', 't', 'u', 'v', 'w', 'x', 'y', 'z']\n"
          ]
        }
      ]
    },
    {
      "cell_type": "markdown",
      "source": [
        "## Process the dataset"
      ],
      "metadata": {
        "id": "pUWzZO5EP4X7"
      }
    },
    {
      "cell_type": "markdown",
      "source": [
        "### Vectorize the text\n",
        "\n",
        "Before feeding the text to our RNN we need to convert the text from a sequence of characters to a sequence of numbers. To do so we will detect all unique characters in the text, form a vocabulary out of it and replace each character with its index in the vocabulary."
      ],
      "metadata": {
        "id": "H1HbzKlNP4Zt"
      }
    },
    {
      "cell_type": "code",
      "source": [
        "# Map characters to their indices in vocabulary.\n",
        "char2index = {char: index for index, char in enumerate(vocab)}\n",
        "\n",
        "print('{')\n",
        "for char, _ in zip(char2index, range(20)):\n",
        "    print('  {:4s}: {:3d},'.format(repr(char), char2index[char]))\n",
        "print('  ...\\n}')"
      ],
      "metadata": {
        "colab": {
          "base_uri": "https://localhost:8080/"
        },
        "id": "3PA_Gx0FNXB8",
        "outputId": "9f40111c-e6c3-4179-8b63-176f2d3b4205"
      },
      "execution_count": 7,
      "outputs": [
        {
          "output_type": "stream",
          "name": "stdout",
          "text": [
            "{\n",
            "  '\\n':   0,\n",
            "  ' ' :   1,\n",
            "  '!' :   2,\n",
            "  '$' :   3,\n",
            "  '&' :   4,\n",
            "  \"'\" :   5,\n",
            "  ',' :   6,\n",
            "  '-' :   7,\n",
            "  '.' :   8,\n",
            "  '3' :   9,\n",
            "  ':' :  10,\n",
            "  ';' :  11,\n",
            "  '?' :  12,\n",
            "  'A' :  13,\n",
            "  'B' :  14,\n",
            "  'C' :  15,\n",
            "  'D' :  16,\n",
            "  'E' :  17,\n",
            "  'F' :  18,\n",
            "  'G' :  19,\n",
            "  ...\n",
            "}\n"
          ]
        }
      ]
    },
    {
      "cell_type": "code",
      "source": [
        "# Map character indices to characters from vacabulary.\n",
        "index2char = np.array(vocab)\n",
        "print(index2char)"
      ],
      "metadata": {
        "colab": {
          "base_uri": "https://localhost:8080/"
        },
        "id": "DabsaJ1_O1Ju",
        "outputId": "49b920c1-1d9b-4828-f534-9ce67ceda8d0"
      },
      "execution_count": 8,
      "outputs": [
        {
          "output_type": "stream",
          "name": "stdout",
          "text": [
            "['\\n' ' ' '!' '$' '&' \"'\" ',' '-' '.' '3' ':' ';' '?' 'A' 'B' 'C' 'D' 'E'\n",
            " 'F' 'G' 'H' 'I' 'J' 'K' 'L' 'M' 'N' 'O' 'P' 'Q' 'R' 'S' 'T' 'U' 'V' 'W'\n",
            " 'X' 'Y' 'Z' 'a' 'b' 'c' 'd' 'e' 'f' 'g' 'h' 'i' 'j' 'k' 'l' 'm' 'n' 'o'\n",
            " 'p' 'q' 'r' 's' 't' 'u' 'v' 'w' 'x' 'y' 'z']\n"
          ]
        }
      ]
    },
    {
      "cell_type": "code",
      "source": [
        "#show how the first 13 character from the text are mapped to integer\n",
        "text_as_int = np.array([char2index[char] for char in text])\n",
        "print('text_as_int length: {}'.format(len(text_as_int)))\n",
        "print('{} --> {}'.format(repr(text[:15]), repr(text_as_int[:15])))"
      ],
      "metadata": {
        "colab": {
          "base_uri": "https://localhost:8080/"
        },
        "id": "7CMlTT3hPnI6",
        "outputId": "8d6fcbc1-9701-4203-b64e-c095ea7c5c6f"
      },
      "execution_count": 9,
      "outputs": [
        {
          "output_type": "stream",
          "name": "stdout",
          "text": [
            "text_as_int length: 1115394\n",
            "'First Citizen:\\n' --> array([18, 47, 56, 57, 58,  1, 15, 47, 58, 47, 64, 43, 52, 10,  0])\n"
          ]
        }
      ]
    },
    {
      "cell_type": "code",
      "source": [
        "# The maximum length sentence we want for a single input in characters.\n",
        "sequence_length = 100\n",
        "examples_per_epoch = len(text) // (sequence_length + 1)\n",
        "\n",
        "print('examples_per_epoch:', examples_per_epoch)"
      ],
      "metadata": {
        "colab": {
          "base_uri": "https://localhost:8080/"
        },
        "id": "JAQM0M8tQbrK",
        "outputId": "87e6fb17-4751-4fd7-8dbe-aaa401b11d19"
      },
      "execution_count": 10,
      "outputs": [
        {
          "output_type": "stream",
          "name": "stdout",
          "text": [
            "examples_per_epoch: 11043\n"
          ]
        }
      ]
    },
    {
      "cell_type": "code",
      "source": [
        "# Create training dataset.\n",
        "char_dataset = tf.data.Dataset.from_tensor_slices(text_as_int)\n",
        "\n",
        "for char in char_dataset.take(5):\n",
        "    print(index2char[char.numpy()])"
      ],
      "metadata": {
        "colab": {
          "base_uri": "https://localhost:8080/"
        },
        "id": "tCcWxOxcRfu7",
        "outputId": "e0bad01b-2ad3-4714-827c-e9b2de3dd566"
      },
      "execution_count": 11,
      "outputs": [
        {
          "output_type": "stream",
          "name": "stdout",
          "text": [
            "F\n",
            "i\n",
            "r\n",
            "s\n",
            "t\n"
          ]
        }
      ]
    },
    {
      "cell_type": "code",
      "source": [
        "# Generate batched sequences out of the char_dataset.\n",
        "sequences = char_dataset.batch(sequence_length + 1, drop_remainder=True)\n",
        "\n",
        "# Sequences size is the same as examples_per_epoch.\n",
        "print('Sequences count: {}'.format(len(list(sequences.as_numpy_iterator()))));\n",
        "print()\n",
        "\n",
        "# Sequences examples.\n",
        "for item in sequences.take(5):\n",
        "    print(repr(''.join(index2char[item.numpy()])))"
      ],
      "metadata": {
        "colab": {
          "base_uri": "https://localhost:8080/"
        },
        "id": "9jcadS2ySirs",
        "outputId": "70a172a9-afe4-4c5f-f37b-75272849ea79"
      },
      "execution_count": 12,
      "outputs": [
        {
          "output_type": "stream",
          "name": "stdout",
          "text": [
            "Sequences count: 11043\n",
            "\n",
            "'First Citizen:\\nBefore we proceed any further, hear me speak.\\n\\nAll:\\nSpeak, speak.\\n\\nFirst Citizen:\\nYou '\n",
            "'are all resolved rather to die than to famish?\\n\\nAll:\\nResolved. resolved.\\n\\nFirst Citizen:\\nFirst, you k'\n",
            "\"now Caius Marcius is chief enemy to the people.\\n\\nAll:\\nWe know't, we know't.\\n\\nFirst Citizen:\\nLet us ki\"\n",
            "\"ll him, and we'll have corn at our own price.\\nIs't a verdict?\\n\\nAll:\\nNo more talking on't; let it be d\"\n",
            "'one: away, away!\\n\\nSecond Citizen:\\nOne word, good citizens.\\n\\nFirst Citizen:\\nWe are accounted poor citi'\n"
          ]
        }
      ]
    },
    {
      "cell_type": "markdown",
      "source": [
        "For each sequence, duplicate and shift it to form the input and target text. For example, say `sequence_length` is `4` and our text is `Hello`. The input sequence would be `Hell`, and the target sequence `ello`."
      ],
      "metadata": {
        "id": "gceu5UicUlmH"
      }
    },
    {
      "cell_type": "code",
      "source": [
        "def split_image_target(chunk):\n",
        "  input_text = chunk[:-1]\n",
        "  target_text = chunk[1:]\n",
        "  return input_text,target_text\n"
      ],
      "metadata": {
        "id": "GOWkXnR-Sub3"
      },
      "execution_count": 13,
      "outputs": []
    },
    {
      "cell_type": "code",
      "source": [
        "dataset = sequences.map(split_image_target)\n"
      ],
      "metadata": {
        "id": "tBDAnNQFUUSu"
      },
      "execution_count": 14,
      "outputs": []
    },
    {
      "cell_type": "code",
      "source": [
        "for input_example,target_example in dataset.take(1):\n",
        "  print('Input:', repr(''.join(index2char[input_example.numpy()])))\n",
        "  print('Target:', repr(''.join(index2char[target_example.numpy()])))"
      ],
      "metadata": {
        "colab": {
          "base_uri": "https://localhost:8080/"
        },
        "id": "uuglI3-9UpWp",
        "outputId": "cd0fb0c2-6123-4860-f4c3-ce91f1d41fbd"
      },
      "execution_count": 15,
      "outputs": [
        {
          "output_type": "stream",
          "name": "stdout",
          "text": [
            "Input: 'First Citizen:\\nBefore we proceed any further, hear me speak.\\n\\nAll:\\nSpeak, speak.\\n\\nFirst Citizen:\\nYou'\n",
            "Target: 'irst Citizen:\\nBefore we proceed any further, hear me speak.\\n\\nAll:\\nSpeak, speak.\\n\\nFirst Citizen:\\nYou '\n"
          ]
        }
      ]
    },
    {
      "cell_type": "markdown",
      "source": [
        "Each index of these vectors are processed as one time step. For the input at time step 0, the model receives the index for \"F\" and trys to predict the index for \"i\" as the next character. At the next timestep, it does the same thing but the RNN considers the previous step context in addition to the current input character."
      ],
      "metadata": {
        "id": "xUATKDBDVFEE"
      }
    },
    {
      "cell_type": "code",
      "source": [
        "for i, (input_idx, target_idx) in enumerate(zip(input_example[:5], target_example[:5])):\n",
        "    print('Step {:2d}'.format(i))\n",
        "    print('  input: {} ({:s})'.format(input_idx, repr(index2char[input_idx])))\n",
        "    print('  expected output: {} ({:s})'.format(target_idx, repr(index2char[target_idx])))"
      ],
      "metadata": {
        "colab": {
          "base_uri": "https://localhost:8080/"
        },
        "id": "hxNfBKjqU8UU",
        "outputId": "55796f7d-bb3a-4d64-db05-62ef7821f931"
      },
      "execution_count": 16,
      "outputs": [
        {
          "output_type": "stream",
          "name": "stdout",
          "text": [
            "Step  0\n",
            "  input: 18 ('F')\n",
            "  expected output: 47 ('i')\n",
            "Step  1\n",
            "  input: 47 ('i')\n",
            "  expected output: 56 ('r')\n",
            "Step  2\n",
            "  input: 56 ('r')\n",
            "  expected output: 57 ('s')\n",
            "Step  3\n",
            "  input: 57 ('s')\n",
            "  expected output: 58 ('t')\n",
            "Step  4\n",
            "  input: 58 ('t')\n",
            "  expected output: 1 (' ')\n"
          ]
        }
      ]
    },
    {
      "cell_type": "markdown",
      "source": [
        "## Split training sequences into batches\n",
        "\n",
        "We used `tf.data` to split the text into manageable sequences. But before feeding this data into the model, we need to shuffle the data and pack it into batches."
      ],
      "metadata": {
        "id": "86XrQjDXVa2N"
      }
    },
    {
      "cell_type": "code",
      "source": [
        "# Batch size.\n",
        "BATCH_SIZE = 64\n",
        "\n",
        "# Buffer size to shuffle the dataset (TF data is designed to work\n",
        "# with possibly infinite sequences, so it doesn't attempt to shuffle\n",
        "# the entire sequence in memory. Instead, it maintains a buffer in\n",
        "# which it shuffles elements).\n",
        "BUFFER_SIZE = 10000\n",
        "\n",
        "dataset = dataset.shuffle(BUFFER_SIZE).batch(BATCH_SIZE, drop_remainder=True)\n",
        "\n",
        "dataset"
      ],
      "metadata": {
        "colab": {
          "base_uri": "https://localhost:8080/"
        },
        "id": "1e94pUJZVZGz",
        "outputId": "89f5c770-1661-4a92-b68c-a2535d45ca9a"
      },
      "execution_count": 17,
      "outputs": [
        {
          "output_type": "execute_result",
          "data": {
            "text/plain": [
              "<_BatchDataset element_spec=(TensorSpec(shape=(64, 100), dtype=tf.int64, name=None), TensorSpec(shape=(64, 100), dtype=tf.int64, name=None))>"
            ]
          },
          "metadata": {},
          "execution_count": 17
        }
      ]
    },
    {
      "cell_type": "markdown",
      "source": [
        "## Build a Model\n",
        "\n",
        "Use [tf.keras.Sequential] to define the model. For this simple example three layers are used to define our model:\n",
        "\n",
        "- `tf.keras.layers.Embedding`: The input layer. A trainable lookup table that will map the numbers of each character to a vector with `embedding_dim` dimensions;\n",
        "- `tf.keras.layers.LSTM`: A type of RNN with size units=rnn_units (You can also use a GRU layer here.)\n",
        "- `tf.keras.layers.Dense:` The output layer, with vocab_size outputs."
      ],
      "metadata": {
        "id": "jstYg6roWW7a"
      }
    },
    {
      "cell_type": "code",
      "source": [
        "#Length of the vocabulary in chars\n",
        "vocab_size = len(vocab)\n",
        "\n",
        "#The embedding dimension\n",
        "embedding_dim = 256\n",
        "\n",
        "# Number of RNN units\n",
        "\n",
        "rnn_units = 1024"
      ],
      "metadata": {
        "id": "pcqvgx-gVS2_"
      },
      "execution_count": 18,
      "outputs": []
    },
    {
      "cell_type": "code",
      "source": [
        "def build_model(vocab_size, embedding_dim, rnn_units, batch_size):\n",
        "    model = tf.keras.models.Sequential()\n",
        "\n",
        "    model.add(tf.keras.layers.Embedding(\n",
        "      input_dim=vocab_size,\n",
        "      output_dim=embedding_dim,\n",
        "      batch_input_shape=[batch_size, None]\n",
        "    ))\n",
        "\n",
        "    model.add(tf.keras.layers.LSTM(\n",
        "      units=rnn_units,\n",
        "      return_sequences=True, #for output from each node\n",
        "      stateful=True,\n",
        "      recurrent_initializer=tf.keras.initializers.GlorotNormal() #special RNN intializer\n",
        "    ))\n",
        "\n",
        "    model.add(tf.keras.layers.Dense(vocab_size))\n",
        "\n",
        "    return model"
      ],
      "metadata": {
        "id": "9JfDuASeXDOj"
      },
      "execution_count": 19,
      "outputs": []
    },
    {
      "cell_type": "code",
      "source": [
        "model = build_model(vocab_size, embedding_dim, rnn_units, BATCH_SIZE)"
      ],
      "metadata": {
        "id": "o5VOrEHwXdo2"
      },
      "execution_count": 20,
      "outputs": []
    },
    {
      "cell_type": "code",
      "source": [
        "model.summary()"
      ],
      "metadata": {
        "colab": {
          "base_uri": "https://localhost:8080/"
        },
        "id": "-z9wHvFGXsIL",
        "outputId": "e2466e46-cdec-49e9-f716-8e7bd871238c"
      },
      "execution_count": 21,
      "outputs": [
        {
          "output_type": "stream",
          "name": "stdout",
          "text": [
            "Model: \"sequential\"\n",
            "_________________________________________________________________\n",
            " Layer (type)                Output Shape              Param #   \n",
            "=================================================================\n",
            " embedding (Embedding)       (64, None, 256)           16640     \n",
            "                                                                 \n",
            " lstm (LSTM)                 (64, None, 1024)          5246976   \n",
            "                                                                 \n",
            " dense (Dense)               (64, None, 65)            66625     \n",
            "                                                                 \n",
            "=================================================================\n",
            "Total params: 5330241 (20.33 MB)\n",
            "Trainable params: 5330241 (20.33 MB)\n",
            "Non-trainable params: 0 (0.00 Byte)\n",
            "_________________________________________________________________\n"
          ]
        }
      ]
    },
    {
      "cell_type": "code",
      "source": [
        "# Plot the model architecture.\n",
        "tf.keras.utils.plot_model(\n",
        "    model,\n",
        "    show_shapes=True,\n",
        "    show_layer_names=True,\n",
        ")\n"
      ],
      "metadata": {
        "colab": {
          "base_uri": "https://localhost:8080/",
          "height": 422
        },
        "id": "7OM4I1UFXwlI",
        "outputId": "2d67c9a6-01ac-48fe-ad7c-15fd3d811058"
      },
      "execution_count": 22,
      "outputs": [
        {
          "output_type": "execute_result",
          "data": {
            "image/png": "[encoded data removed]",
            "text/plain": [
              "<IPython.core.display.Image object>"
            ]
          },
          "metadata": {},
          "execution_count": 22
        }
      ]
    },
    {
      "cell_type": "markdown",
      "source": [
        "For each character the model looks up the embedding, runs the GRU one timestep with the embedding as input, and applies the dense layer to generate logits predicting the log-likelihood of the next character:\n"
      ],
      "metadata": {
        "id": "14dw7Aa5YGpP"
      }
    },
    {
      "cell_type": "markdown",
      "source": [
        "## Try the Model"
      ],
      "metadata": {
        "id": "Ag2PL7SSYNJv"
      }
    },
    {
      "cell_type": "code",
      "source": [
        "for input_example_batch, target_example_batch in dataset.take(1):\n",
        "    example_batch_predictions = model(input_example_batch)\n",
        "    print(example_batch_predictions.shape, \"# (batch_size, sequence_length, vocab_size)\")"
      ],
      "metadata": {
        "colab": {
          "base_uri": "https://localhost:8080/"
        },
        "id": "ed6ETpDdX_Je",
        "outputId": "2dae7774-1a95-43b6-fc8e-ff975c4e8d52"
      },
      "execution_count": 23,
      "outputs": [
        {
          "output_type": "stream",
          "name": "stdout",
          "text": [
            "(64, 100, 65) # (batch_size, sequence_length, vocab_size)\n"
          ]
        }
      ]
    },
    {
      "cell_type": "markdown",
      "source": [
        "## Train the model\n",
        "\n",
        "At this point the problem can be treated as a standard classification problem. Given the previous RNN state, and the input this time step, predict the class of the next character.?"
      ],
      "metadata": {
        "id": "IxYKyd0JYbQK"
      }
    },
    {
      "cell_type": "markdown",
      "source": [
        "### Attach an optimizer, and a loss function"
      ],
      "metadata": {
        "id": "7aFeVTV1Y2mV"
      }
    },
    {
      "cell_type": "code",
      "source": [
        "# An objective function.\n",
        "# The function is any callable with the signature scalar_loss = fn(y_true, y_pred).\n",
        "def loss(labels, logits):\n",
        "    return tf.keras.losses.sparse_categorical_crossentropy(\n",
        "      y_true=labels,\n",
        "      y_pred=logits,\n",
        "      from_logits=True\n",
        "    )\n",
        "\n",
        "example_batch_loss = loss(target_example_batch, example_batch_predictions)\n",
        "\n",
        "print(\"Prediction shape: \", example_batch_predictions.shape, \" # (batch_size, sequence_length, vocab_size)\")\n",
        "print(\"scalar_loss:      \", example_batch_loss.numpy().mean())"
      ],
      "metadata": {
        "colab": {
          "base_uri": "https://localhost:8080/"
        },
        "id": "hB061hzqY6B0",
        "outputId": "9f8c1bbc-a27e-42ac-a9b0-cfc14b128706"
      },
      "execution_count": 24,
      "outputs": [
        {
          "output_type": "stream",
          "name": "stdout",
          "text": [
            "Prediction shape:  (64, 100, 65)  # (batch_size, sequence_length, vocab_size)\n",
            "scalar_loss:       4.1741147\n"
          ]
        }
      ]
    },
    {
      "cell_type": "markdown",
      "source": [],
      "metadata": {
        "id": "dZzKXcNuY2wL"
      }
    },
    {
      "cell_type": "code",
      "source": [
        "adam_optimizer = tf.keras.optimizers.Adam(learning_rate=0.001)\n",
        "model.compile(\n",
        "    optimizer=adam_optimizer,\n",
        "    loss=loss\n",
        ")"
      ],
      "metadata": {
        "id": "hFM0tWXzYSXK"
      },
      "execution_count": 25,
      "outputs": []
    },
    {
      "cell_type": "markdown",
      "source": [
        "### Configure checkpoints"
      ],
      "metadata": {
        "id": "8W0-lPdhZHwi"
      }
    },
    {
      "cell_type": "code",
      "source": [
        "# Directory where the checkpoints will be saved.\n",
        "checkpoint_dir = 'tmp/checkpoints'\n",
        "os.makedirs(checkpoint_dir, exist_ok=True)\n",
        "\n",
        "# Name of the checkpoint files\n",
        "checkpoint_prefix = os.path.join(checkpoint_dir, 'ckpt_{epoch}')\n",
        "\n",
        "checkpoint_callback=tf.keras.callbacks.ModelCheckpoint(\n",
        "    filepath=checkpoint_prefix,\n",
        "    save_weights_only=True\n",
        ")"
      ],
      "metadata": {
        "id": "cz6B475DZAyx"
      },
      "execution_count": 26,
      "outputs": []
    },
    {
      "cell_type": "code",
      "source": [
        "history = model.fit(\n",
        "  x=dataset,\n",
        "  epochs=50,\n",
        "  callbacks=[\n",
        "    checkpoint_callback\n",
        "  ]\n",
        ")"
      ],
      "metadata": {
        "colab": {
          "base_uri": "https://localhost:8080/"
        },
        "id": "FWdSij-qZGdy",
        "outputId": "1cd4d007-38aa-4050-805f-e4b99a2901a9"
      },
      "execution_count": 27,
      "outputs": [
        {
          "output_type": "stream",
          "name": "stdout",
          "text": [
            "Epoch 1/50\n",
            "172/172 [==============================] - 23s 79ms/step - loss: 2.5781\n",
            "Epoch 2/50\n",
            "172/172 [==============================] - 14s 71ms/step - loss: 1.8776\n",
            "Epoch 3/50\n",
            "172/172 [==============================] - 14s 71ms/step - loss: 1.6275\n",
            "Epoch 4/50\n",
            "172/172 [==============================] - 14s 71ms/step - loss: 1.4954\n",
            "Epoch 5/50\n",
            "172/172 [==============================] - 14s 70ms/step - loss: 1.4166\n",
            "Epoch 6/50\n",
            "172/172 [==============================] - 15s 70ms/step - loss: 1.3607\n",
            "Epoch 7/50\n",
            "172/172 [==============================] - 15s 71ms/step - loss: 1.3167\n",
            "Epoch 8/50\n",
            "172/172 [==============================] - 14s 72ms/step - loss: 1.2776\n",
            "Epoch 9/50\n",
            "172/172 [==============================] - 14s 71ms/step - loss: 1.2415\n",
            "Epoch 10/50\n",
            "172/172 [==============================] - 15s 69ms/step - loss: 1.2067\n",
            "Epoch 11/50\n",
            "172/172 [==============================] - 13s 69ms/step - loss: 1.1706\n",
            "Epoch 12/50\n",
            "172/172 [==============================] - 14s 70ms/step - loss: 1.1335\n",
            "Epoch 13/50\n",
            "172/172 [==============================] - 14s 70ms/step - loss: 1.0959\n",
            "Epoch 14/50\n",
            "172/172 [==============================] - 14s 71ms/step - loss: 1.0569\n",
            "Epoch 15/50\n",
            "172/172 [==============================] - 14s 70ms/step - loss: 1.0157\n",
            "Epoch 16/50\n",
            "172/172 [==============================] - 14s 70ms/step - loss: 0.9758\n",
            "Epoch 17/50\n",
            "172/172 [==============================] - 13s 68ms/step - loss: 0.9345\n",
            "Epoch 18/50\n",
            "172/172 [==============================] - 14s 70ms/step - loss: 0.8950\n",
            "Epoch 19/50\n",
            "172/172 [==============================] - 14s 71ms/step - loss: 0.8552\n",
            "Epoch 20/50\n",
            "172/172 [==============================] - 14s 71ms/step - loss: 0.8159\n",
            "Epoch 21/50\n",
            "172/172 [==============================] - 13s 69ms/step - loss: 0.7789\n",
            "Epoch 22/50\n",
            "172/172 [==============================] - 14s 69ms/step - loss: 0.7459\n",
            "Epoch 23/50\n",
            "172/172 [==============================] - 14s 71ms/step - loss: 0.7160\n",
            "Epoch 24/50\n",
            "172/172 [==============================] - 14s 72ms/step - loss: 0.6863\n",
            "Epoch 25/50\n",
            "172/172 [==============================] - 14s 70ms/step - loss: 0.6612\n",
            "Epoch 26/50\n",
            "172/172 [==============================] - 13s 69ms/step - loss: 0.6352\n",
            "Epoch 27/50\n",
            "172/172 [==============================] - 14s 69ms/step - loss: 0.6162\n",
            "Epoch 28/50\n",
            "172/172 [==============================] - 14s 69ms/step - loss: 0.5962\n",
            "Epoch 29/50\n",
            "172/172 [==============================] - 14s 70ms/step - loss: 0.5769\n",
            "Epoch 30/50\n",
            "172/172 [==============================] - 14s 71ms/step - loss: 0.5631\n",
            "Epoch 31/50\n",
            "172/172 [==============================] - 14s 70ms/step - loss: 0.5488\n",
            "Epoch 32/50\n",
            "172/172 [==============================] - 14s 69ms/step - loss: 0.5348\n",
            "Epoch 33/50\n",
            "172/172 [==============================] - 14s 70ms/step - loss: 0.5228\n",
            "Epoch 34/50\n",
            "172/172 [==============================] - 14s 71ms/step - loss: 0.5135\n",
            "Epoch 35/50\n",
            "172/172 [==============================] - 14s 70ms/step - loss: 0.5030\n",
            "Epoch 36/50\n",
            "172/172 [==============================] - 14s 70ms/step - loss: 0.4936\n",
            "Epoch 37/50\n",
            "172/172 [==============================] - 14s 70ms/step - loss: 0.4857\n",
            "Epoch 38/50\n",
            "172/172 [==============================] - 14s 70ms/step - loss: 0.4784\n",
            "Epoch 39/50\n",
            "172/172 [==============================] - 14s 70ms/step - loss: 0.4738\n",
            "Epoch 40/50\n",
            "172/172 [==============================] - 14s 70ms/step - loss: 0.4657\n",
            "Epoch 41/50\n",
            "172/172 [==============================] - 14s 70ms/step - loss: 0.4627\n",
            "Epoch 42/50\n",
            "172/172 [==============================] - 14s 70ms/step - loss: 0.4580\n",
            "Epoch 43/50\n",
            "172/172 [==============================] - 14s 70ms/step - loss: 0.4504\n",
            "Epoch 44/50\n",
            "172/172 [==============================] - 14s 71ms/step - loss: 0.4493\n",
            "Epoch 45/50\n",
            "172/172 [==============================] - 14s 70ms/step - loss: 0.4426\n",
            "Epoch 46/50\n",
            "172/172 [==============================] - 14s 71ms/step - loss: 0.4416\n",
            "Epoch 47/50\n",
            "172/172 [==============================] - 14s 70ms/step - loss: 0.4356\n",
            "Epoch 48/50\n",
            "172/172 [==============================] - 14s 70ms/step - loss: 0.4358\n",
            "Epoch 49/50\n",
            "172/172 [==============================] - 15s 69ms/step - loss: 0.4309\n",
            "Epoch 50/50\n",
            "172/172 [==============================] - 14s 71ms/step - loss: 0.4285\n"
          ]
        }
      ]
    },
    {
      "cell_type": "code",
      "source": [
        "#plot the graph\n",
        "loss = history.history['loss']\n",
        "plt.title('Loss')\n",
        "plt.xlabel('Epoch')\n",
        "plt.ylabel('Loss')\n",
        "plt.plot(loss, label='Training set')\n",
        "plt.legend()\n",
        "plt.grid(linestyle='--', linewidth=1, alpha=0.5)\n",
        "plt.show()"
      ],
      "metadata": {
        "colab": {
          "base_uri": "https://localhost:8080/",
          "height": 472
        },
        "id": "g2MoyGq6ZaWW",
        "outputId": "6e559a43-bafc-46bc-86c7-5054a022c300"
      },
      "execution_count": 28,
      "outputs": [
        {
          "output_type": "display_data",
          "data": {
            "text/plain": [
              "<Figure size 640x480 with 1 Axes>"
            ],
            "image/png": "[encoded data removed]"
          },
          "metadata": {}
        }
      ]
    },
    {
      "cell_type": "markdown",
      "source": [
        "## Generate the Text\n",
        "\n",
        "### Restore the latest checkpoint\n",
        "\n",
        "To keep this prediction step simple, use a batch size of 1.\n",
        "\n",
        "Because of the way the RNN state is passed from timestep to timestep, the model only accepts a fixed batch size once built.\n",
        "\n",
        "To run the model with a different `batch_size`, we need to rebuild the model and restore the weights from the checkpoint."
      ],
      "metadata": {
        "id": "LT4LMbYRZ2US"
      }
    },
    {
      "cell_type": "code",
      "source": [
        "tf.train.latest_checkpoint(checkpoint_dir)"
      ],
      "metadata": {
        "colab": {
          "base_uri": "https://localhost:8080/",
          "height": 36
        },
        "id": "-gnzSPRpZadY",
        "outputId": "2378532e-782d-4741-9e83-2723e4fcafa5"
      },
      "execution_count": 29,
      "outputs": [
        {
          "output_type": "execute_result",
          "data": {
            "text/plain": [
              "'tmp/checkpoints/ckpt_50'"
            ],
            "application/vnd.google.colaboratory.intrinsic+json": {
              "type": "string"
            }
          },
          "metadata": {},
          "execution_count": 29
        }
      ]
    },
    {
      "cell_type": "code",
      "source": [
        "simplified_batch_size = 1\n",
        "\n",
        "model = build_model(vocab_size, embedding_dim, rnn_units, batch_size=1)\n",
        "\n",
        "model.load_weights(tf.train.latest_checkpoint(checkpoint_dir))\n",
        "\n",
        "model.build(tf.TensorShape([simplified_batch_size, None]))"
      ],
      "metadata": {
        "id": "5fcZ6IdRZae2"
      },
      "execution_count": 30,
      "outputs": []
    },
    {
      "cell_type": "code",
      "source": [
        "model.summary()"
      ],
      "metadata": {
        "colab": {
          "base_uri": "https://localhost:8080/"
        },
        "id": "TxTNntMbZajY",
        "outputId": "9c3aecaa-f3e6-4047-85e2-81d2d2d610e5"
      },
      "execution_count": 31,
      "outputs": [
        {
          "output_type": "stream",
          "name": "stdout",
          "text": [
            "Model: \"sequential_1\"\n",
            "_________________________________________________________________\n",
            " Layer (type)                Output Shape              Param #   \n",
            "=================================================================\n",
            " embedding_1 (Embedding)     (1, None, 256)            16640     \n",
            "                                                                 \n",
            " lstm_1 (LSTM)               (1, None, 1024)           5246976   \n",
            "                                                                 \n",
            " dense_1 (Dense)             (1, None, 65)             66625     \n",
            "                                                                 \n",
            "=================================================================\n",
            "Total params: 5330241 (20.33 MB)\n",
            "Trainable params: 5330241 (20.33 MB)\n",
            "Non-trainable params: 0 (0.00 Byte)\n",
            "_________________________________________________________________\n"
          ]
        }
      ]
    },
    {
      "cell_type": "markdown",
      "source": [
        "### The prediction loop\n",
        "\n",
        "The following code block generates the text:\n",
        "\n",
        "- It Starts by choosing a start string, initializing the RNN state and setting the number of characters to generate.\n",
        "\n",
        "- Get the prediction distribution of the next character using the start string and the RNN state.\n",
        "\n",
        "- Then, use a categorical distribution to calculate the index of the predicted character. Use this predicted character as our next input to the model.\n",
        "\n",
        "- The RNN state returned by the model is fed back into the model so that it now has more context, instead than only one character. After predicting the next character, the modified RNN states are again fed back into the model, which is how it learns as it gets more context from the previously predicted characters.\n"
      ],
      "metadata": {
        "id": "P2X-zOhJaLwO"
      }
    },
    {
      "cell_type": "code",
      "source": [
        "# num_generate\n",
        "# - number of characters to generate.\n",
        "#\n",
        "# temperature\n",
        "# - Low temperatures results in more predictable text.\n",
        "# - Higher temperatures results in more surprising text.\n",
        "# - Experiment to find the best setting.\n",
        "def generate_text(model, start_string, num_generate = 1000, temperature=1.0):\n",
        "    # Evaluation step (generating text using the learned model)\n",
        "\n",
        "    # Converting our start string to numbers (vectorizing).\n",
        "    input_indices = [char2index[s] for s in start_string]\n",
        "    input_indices = tf.expand_dims(input_indices, 0)\n",
        "\n",
        "    # Empty string to store our results.\n",
        "    text_generated = []\n",
        "\n",
        "    # Here batch size == 1.\n",
        "    model.reset_states()\n",
        "    for char_index in range(num_generate):\n",
        "        predictions = model(input_indices)\n",
        "        # remove the batch dimension\n",
        "        predictions = tf.squeeze(predictions, 0)\n",
        "\n",
        "        # Using a categorical distribution to predict the character returned by the model.\n",
        "        predictions = predictions / temperature\n",
        "        predicted_id = tf.random.categorical(\n",
        "        predictions,\n",
        "        num_samples=1\n",
        "        )[-1,0].numpy()\n",
        "\n",
        "        # We pass the predicted character as the next input to the model\n",
        "        # along with the previous hidden state.\n",
        "        input_indices = tf.expand_dims([predicted_id], 0)\n",
        "\n",
        "        text_generated.append(index2char[predicted_id])\n",
        "\n",
        "    return (start_string + ''.join(text_generated))"
      ],
      "metadata": {
        "id": "2KuMtbapaH2-"
      },
      "execution_count": 32,
      "outputs": []
    },
    {
      "cell_type": "code",
      "source": [
        "# Generate the text with default temperature (1.0).\n",
        "print(generate_text(model, start_string=u\"ROMEO: \"))"
      ],
      "metadata": {
        "colab": {
          "base_uri": "https://localhost:8080/"
        },
        "id": "rvCLC9fYaH4g",
        "outputId": "5ac678b7-ca8e-42ed-f2a6-fd3ed308de03"
      },
      "execution_count": 33,
      "outputs": [
        {
          "output_type": "stream",
          "name": "stdout",
          "text": [
            "ROMEO: Most mayor what a shrive beholding Ress!\n",
            "\n",
            "KING RICHARD II:\n",
            "Think we as fam asleep; that the gods will follow:\n",
            "Richard be here--all great Lord of Gloucester?\n",
            "\n",
            "Lord Wal suspect, worse:\n",
            "Thou wast a Richard, till a Richard kill'd him;\n",
            "I had a bride than eat: therefore bring forth, I stand to the gods preserve me.\n",
            "\n",
            "QUEEN ELIZABETH:\n",
            "Come, bring alone, black, which art thou yet to quesion; then, belike, I\n",
            "Just in the bloody of the west,\n",
            "And no less things goes there.\n",
            "\n",
            "BENVOLIO:\n",
            "If thou wert son: have you ng.\n",
            "\n",
            "BIONDELLO:\n",
            "Then mutake herse sleepe as great as well\n",
            "I cannot speak, neither meet we are all have I in the right Vincentio;\n",
            "The prince your son, their back again,\n",
            "And make paid the boar succress the two?\n",
            "\n",
            "DUKE VINCENTIO:\n",
            "The best adversaries and mine, are worth preparent.\n",
            "O, he, my lord, wish me in life the beastly I know;\n",
            "Our general guess,\n",
            "Like twenty of their sleghat calls me.\n",
            "\n",
            "First Gentleman:\n",
            "What, do you not?\n",
            "\n",
            "Nurse:\n",
            "\n",
            "JULIET:\n",
            "Must die to-morrow! O injurious villain!\n",
            "Kit unnot brain\n"
          ]
        }
      ]
    },
    {
      "cell_type": "code",
      "source": [],
      "metadata": {
        "id": "XMN2wJnEaH76"
      },
      "execution_count": 33,
      "outputs": []
    },
    {
      "cell_type": "code",
      "source": [],
      "metadata": {
        "id": "xUpTWaMqaH9i"
      },
      "execution_count": 33,
      "outputs": []
    },
    {
      "cell_type": "code",
      "source": [],
      "metadata": {
        "id": "P8Q_G8MOaIBr"
      },
      "execution_count": 33,
      "outputs": []
    }
  ]
}